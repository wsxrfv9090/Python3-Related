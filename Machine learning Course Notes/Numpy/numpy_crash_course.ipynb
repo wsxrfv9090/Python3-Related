{
 "cells": [
  {
   "cell_type": "markdown",
   "metadata": {},
   "source": [
    "Course URL: https://www.youtube.com/watch?v=4c_mwnYdbhQ"
   ]
  },
  {
   "cell_type": "markdown",
   "metadata": {
    "id": "mpw8olYLbdqJ"
   },
   "source": [
    "# Data types"
   ]
  },
  {
   "cell_type": "code",
   "execution_count": 1,
   "metadata": {
    "colab": {
     "base_uri": "https://localhost:8080/"
    },
    "executionInfo": {
     "elapsed": 7,
     "status": "ok",
     "timestamp": 1738897440292,
     "user": {
      "displayName": "Davy Yu",
      "userId": "17436965538887511661"
     },
     "user_tz": -480
    },
    "id": "4dwrpezAWJcg",
    "outputId": "e397592e-7418-4e3b-a2ad-e5f763bc4e67"
   },
   "outputs": [
    {
     "name": "stdout",
     "output_type": "stream",
     "text": [
      "[1 2 3 4 5]\n",
      "2\n",
      "[1 2 3]\n"
     ]
    }
   ],
   "source": [
    "import numpy as np\n",
    "\n",
    "a = np.array([1, 2, 3, 4, 5])\n",
    "#access\n",
    "print(a)\n",
    "print(a[1])\n",
    "print(a[:-2])"
   ]
  },
  {
   "cell_type": "markdown",
   "metadata": {
    "id": "3_aLvPeRWZ5S"
   },
   "source": [
    "You can access a numpy array as a normal array."
   ]
  },
  {
   "cell_type": "code",
   "execution_count": 3,
   "metadata": {
    "executionInfo": {
     "elapsed": 12,
     "status": "ok",
     "timestamp": 1738897445780,
     "user": {
      "displayName": "Davy Yu",
      "userId": "17436965538887511661"
     },
     "user_tz": -480
    },
    "id": "pFbBGHXBWjb6"
   },
   "outputs": [],
   "source": [
    "a_mul_dim = np.array([[1, 2, 3],\n",
    "                      [4, 5, 6],\n",
    "                      [7, 8, 9]])\n",
    "\n",
    "b_mul_dim = np.array([[[1, 2, 3, 1],\n",
    "                       [3, 4, 5, 1],\n",
    "                       [7, 8, 9, 1]],\n",
    "                      [[1, 1, 1, 1],\n",
    "                       [1, 1, 1, 1],\n",
    "                       [1, 1, 1, 1]]])"
   ]
  },
  {
   "cell_type": "markdown",
   "metadata": {
    "id": "-ZAGYs5uWmiv"
   },
   "source": [
    "You can also initiate different types of numpy array"
   ]
  },
  {
   "cell_type": "markdown",
   "metadata": {
    "id": "jCpyt1b9W7fE"
   },
   "source": [
    "`a_mul_dim` is a 3 by 3 matrix."
   ]
  },
  {
   "cell_type": "markdown",
   "metadata": {
    "id": "saV81v4rW831"
   },
   "source": [
    "and `b_mul_dim` is 2 3 by 4 matrices."
   ]
  },
  {
   "cell_type": "code",
   "execution_count": 4,
   "metadata": {
    "colab": {
     "base_uri": "https://localhost:8080/"
    },
    "executionInfo": {
     "elapsed": 5,
     "status": "ok",
     "timestamp": 1738897449362,
     "user": {
      "displayName": "Davy Yu",
      "userId": "17436965538887511661"
     },
     "user_tz": -480
    },
    "id": "9ZzvVHL0W1ks",
    "outputId": "73535680-b9ea-476a-9050-5206bc97b804"
   },
   "outputs": [
    {
     "name": "stdout",
     "output_type": "stream",
     "text": [
      "[1 2 3]\n",
      "2\n"
     ]
    }
   ],
   "source": [
    "print(a_mul_dim[0])\n",
    "print(a_mul_dim[0, 1])"
   ]
  },
  {
   "cell_type": "code",
   "execution_count": 5,
   "metadata": {
    "colab": {
     "base_uri": "https://localhost:8080/"
    },
    "executionInfo": {
     "elapsed": 6,
     "status": "ok",
     "timestamp": 1738897476240,
     "user": {
      "displayName": "Davy Yu",
      "userId": "17436965538887511661"
     },
     "user_tz": -480
    },
    "id": "f2sWTrNRXbqP",
    "outputId": "8a14a257-06e5-49cc-e596-c28bdd8cb5a2"
   },
   "outputs": [
    {
     "name": "stdout",
     "output_type": "stream",
     "text": [
      "(3, 3)\n",
      "(2, 3, 4)\n"
     ]
    }
   ],
   "source": [
    "#size of the matrix\n",
    "print(a_mul_dim.shape)\n",
    "#has to be homogeneous matrix to work\n",
    "print(b_mul_dim.shape)"
   ]
  },
  {
   "cell_type": "code",
   "execution_count": 6,
   "metadata": {
    "colab": {
     "base_uri": "https://localhost:8080/"
    },
    "executionInfo": {
     "elapsed": 11,
     "status": "ok",
     "timestamp": 1738897485527,
     "user": {
      "displayName": "Davy Yu",
      "userId": "17436965538887511661"
     },
     "user_tz": -480
    },
    "id": "Fpyj9myhXdJv",
    "outputId": "525e65ef-c689-4a1b-d3f0-52d056f8ec23"
   },
   "outputs": [
    {
     "name": "stdout",
     "output_type": "stream",
     "text": [
      "2\n",
      "3\n"
     ]
    }
   ],
   "source": [
    "#The depth of parenthesis\n",
    "print(a_mul_dim.ndim)\n",
    "print(b_mul_dim.ndim)"
   ]
  },
  {
   "cell_type": "code",
   "execution_count": 7,
   "metadata": {
    "colab": {
     "base_uri": "https://localhost:8080/"
    },
    "executionInfo": {
     "elapsed": 6,
     "status": "ok",
     "timestamp": 1738897493815,
     "user": {
      "displayName": "Davy Yu",
      "userId": "17436965538887511661"
     },
     "user_tz": -480
    },
    "id": "kPPPjifZXgjJ",
    "outputId": "43305630-45ef-4296-950b-d367b1ff1eaa"
   },
   "outputs": [
    {
     "name": "stdout",
     "output_type": "stream",
     "text": [
      "24\n"
     ]
    }
   ],
   "source": [
    "#The number of elements in the nparray\n",
    "print(b_mul_dim.size)"
   ]
  },
  {
   "cell_type": "code",
   "execution_count": 8,
   "metadata": {
    "colab": {
     "base_uri": "https://localhost:8080/"
    },
    "executionInfo": {
     "elapsed": 12,
     "status": "ok",
     "timestamp": 1738897511854,
     "user": {
      "displayName": "Davy Yu",
      "userId": "17436965538887511661"
     },
     "user_tz": -480
    },
    "id": "XkEMdbpjXiI-",
    "outputId": "5dbd5b63-0e5a-4512-a48a-be47814cedfd"
   },
   "outputs": [
    {
     "name": "stdout",
     "output_type": "stream",
     "text": [
      "int64\n"
     ]
    }
   ],
   "source": [
    "#The data type\n",
    "print(b_mul_dim.dtype)"
   ]
  },
  {
   "cell_type": "code",
   "execution_count": 9,
   "metadata": {
    "colab": {
     "base_uri": "https://localhost:8080/"
    },
    "executionInfo": {
     "elapsed": 15,
     "status": "ok",
     "timestamp": 1738897512895,
     "user": {
      "displayName": "Davy Yu",
      "userId": "17436965538887511661"
     },
     "user_tz": -480
    },
    "id": "hy27o01AXjdK",
    "outputId": "ce97c900-3e0b-4d28-c619-93d2add71cdc"
   },
   "outputs": [
    {
     "name": "stdout",
     "output_type": "stream",
     "text": [
      "<U21\n"
     ]
    }
   ],
   "source": [
    "a_mul_dim = np.array([[1, 2, 3],\n",
    "                      [4, 'Hello!', 6],\n",
    "                      [7, 8, 9]])\n",
    "print(a_mul_dim.dtype)"
   ]
  },
  {
   "cell_type": "markdown",
   "metadata": {
    "id": "KIIGB7rwXnAO"
   },
   "source": [
    "While doing this, the array turns into a string array, which changes all the data even number data into a string data type which is U21 meaning that it's contained with strings with less than 21 characters."
   ]
  },
  {
   "cell_type": "code",
   "execution_count": 10,
   "metadata": {
    "colab": {
     "base_uri": "https://localhost:8080/"
    },
    "executionInfo": {
     "elapsed": 36,
     "status": "ok",
     "timestamp": 1738897707488,
     "user": {
      "displayName": "Davy Yu",
      "userId": "17436965538887511661"
     },
     "user_tz": -480
    },
    "id": "qdfWC6tmYH3p",
    "outputId": "da27c0d1-9fc8-47a8-ce06-27f8993da292"
   },
   "outputs": [
    {
     "name": "stdout",
     "output_type": "stream",
     "text": [
      "<U1\n"
     ]
    }
   ],
   "source": [
    "print(a_mul_dim[0][0].dtype)"
   ]
  },
  {
   "cell_type": "markdown",
   "metadata": {
    "id": "bTz5toH0YWe3"
   },
   "source": [
    "The number is changed into a string."
   ]
  },
  {
   "cell_type": "code",
   "execution_count": 11,
   "metadata": {
    "colab": {
     "base_uri": "https://localhost:8080/"
    },
    "executionInfo": {
     "elapsed": 47,
     "status": "ok",
     "timestamp": 1738898128376,
     "user": {
      "displayName": "Davy Yu",
      "userId": "17436965538887511661"
     },
     "user_tz": -480
    },
    "id": "VvnmmhqeYe2Q",
    "outputId": "c5ebfc45-f564-47d1-c25f-b0d97aab2500"
   },
   "outputs": [
    {
     "name": "stdout",
     "output_type": "stream",
     "text": [
      "float32\n",
      "float32\n",
      "float32\n"
     ]
    }
   ],
   "source": [
    "c_mul_dim = np.array([[1, 2, 3],\n",
    "                      [4, \"5\", 6],\n",
    "                      [7, 8, 9]], dtype = np.float32)\n",
    "print(c_mul_dim.dtype)\n",
    "print(c_mul_dim[1][1].dtype)\n",
    "print(c_mul_dim[0, 0].dtype)"
   ]
  },
  {
   "cell_type": "markdown",
   "metadata": {
    "id": "78Txx7LBaGni"
   },
   "source": [
    "It will chagne all the data within it to one certain datatype"
   ]
  },
  {
   "cell_type": "code",
   "execution_count": 12,
   "metadata": {
    "colab": {
     "base_uri": "https://localhost:8080/"
    },
    "executionInfo": {
     "elapsed": 6,
     "status": "ok",
     "timestamp": 1738898352029,
     "user": {
      "displayName": "Davy Yu",
      "userId": "17436965538887511661"
     },
     "user_tz": -480
    },
    "id": "fLckOiV1aYaJ",
    "outputId": "5f17220f-97e1-4bfb-f93e-97be12adb2a1"
   },
   "outputs": [
    {
     "name": "stdout",
     "output_type": "stream",
     "text": [
      "object\n",
      "<class 'int'>\n"
     ]
    }
   ],
   "source": [
    "d = {'1': 'A'}\n",
    "d_mul_dim = np.array([[1, 2, 3],\n",
    "                      [4, d, 6],\n",
    "                      [7, 8, \"hello\"]])\n",
    "print(d_mul_dim.dtype)\n",
    "print(type(d_mul_dim[1][0]))"
   ]
  },
  {
   "cell_type": "markdown",
   "metadata": {
    "id": "2n5lqvz6azPK"
   },
   "source": [
    "Only if you do this, the np array will turn into a normal python object, which contains different data types."
   ]
  },
  {
   "cell_type": "markdown",
   "metadata": {
    "id": "iRJltlagbVv3"
   },
   "source": [
    "# Filling arrays"
   ]
  },
  {
   "cell_type": "code",
   "execution_count": 14,
   "metadata": {
    "colab": {
     "base_uri": "https://localhost:8080/"
    },
    "executionInfo": {
     "elapsed": 7,
     "status": "ok",
     "timestamp": 1738898582490,
     "user": {
      "displayName": "Davy Yu",
      "userId": "17436965538887511661"
     },
     "user_tz": -480
    },
    "id": "fggllOmlbgvR",
    "outputId": "c02075c6-8028-4756-82f2-0633628dd7a5"
   },
   "outputs": [
    {
     "name": "stdout",
     "output_type": "stream",
     "text": [
      "[[[9 9 9 9]\n",
      "  [9 9 9 9]\n",
      "  [9 9 9 9]]\n",
      "\n",
      " [[9 9 9 9]\n",
      "  [9 9 9 9]\n",
      "  [9 9 9 9]]]\n"
     ]
    }
   ],
   "source": [
    "a_fa = np.full((2, 3, 4), 9)\n",
    "print(a_fa)"
   ]
  },
  {
   "cell_type": "markdown",
   "metadata": {
    "id": "NpBV1xf0bYuQ"
   },
   "source": [
    "Fills 2 matrices that are 3 by 4 with 9"
   ]
  },
  {
   "cell_type": "code",
   "execution_count": 15,
   "metadata": {
    "colab": {
     "base_uri": "https://localhost:8080/"
    },
    "executionInfo": {
     "elapsed": 4,
     "status": "ok",
     "timestamp": 1738898662244,
     "user": {
      "displayName": "Davy Yu",
      "userId": "17436965538887511661"
     },
     "user_tz": -480
    },
    "id": "C3xWPx9wbxV7",
    "outputId": "bf5ae2e2-2656-458c-9283-6ccd16c68171"
   },
   "outputs": [
    {
     "name": "stdout",
     "output_type": "stream",
     "text": [
      "[[[0. 0. 0. 0.]\n",
      "  [0. 0. 0. 0.]\n",
      "  [0. 0. 0. 0.]]\n",
      "\n",
      " [[0. 0. 0. 0.]\n",
      "  [0. 0. 0. 0.]\n",
      "  [0. 0. 0. 0.]]\n",
      "\n",
      " [[0. 0. 0. 0.]\n",
      "  [0. 0. 0. 0.]\n",
      "  [0. 0. 0. 0.]]]\n"
     ]
    }
   ],
   "source": [
    "b_fa = np.zeros((3, 3, 4))\n",
    "print(b_fa)"
   ]
  },
  {
   "cell_type": "markdown",
   "metadata": {
    "id": "jIbMUGV6b_no"
   },
   "source": [
    "Fill with zero."
   ]
  },
  {
   "cell_type": "code",
   "execution_count": 16,
   "metadata": {
    "colab": {
     "base_uri": "https://localhost:8080/"
    },
    "executionInfo": {
     "elapsed": 7,
     "status": "ok",
     "timestamp": 1738898720722,
     "user": {
      "displayName": "Davy Yu",
      "userId": "17436965538887511661"
     },
     "user_tz": -480
    },
    "id": "rqrAHxjtcBBZ",
    "outputId": "2544041e-7ae5-4e5f-e7b5-9d763ed69147"
   },
   "outputs": [
    {
     "name": "stdout",
     "output_type": "stream",
     "text": [
      "[[[1. 1. 1. 1.]\n",
      "  [1. 1. 1. 1.]\n",
      "  [1. 1. 1. 1.]]\n",
      "\n",
      " [[1. 1. 1. 1.]\n",
      "  [1. 1. 1. 1.]\n",
      "  [1. 1. 1. 1.]]\n",
      "\n",
      " [[1. 1. 1. 1.]\n",
      "  [1. 1. 1. 1.]\n",
      "  [1. 1. 1. 1.]]]\n"
     ]
    }
   ],
   "source": [
    "c_fa = np.ones((3, 3, 4))\n",
    "print(c_fa)"
   ]
  },
  {
   "cell_type": "markdown",
   "metadata": {
    "id": "nTATjNRQcNDq"
   },
   "source": [
    "Fill with 1s"
   ]
  },
  {
   "cell_type": "code",
   "execution_count": 17,
   "metadata": {
    "colab": {
     "base_uri": "https://localhost:8080/"
    },
    "executionInfo": {
     "elapsed": 4,
     "status": "ok",
     "timestamp": 1738898766831,
     "user": {
      "displayName": "Davy Yu",
      "userId": "17436965538887511661"
     },
     "user_tz": -480
    },
    "id": "3aAj8gR0cPWX",
    "outputId": "c25c3e69-09d9-443f-a3f9-195801df3d3c"
   },
   "outputs": [
    {
     "name": "stdout",
     "output_type": "stream",
     "text": [
      "[[[6.23042070e-307 2.78149850e-307 1.60220393e-306]\n",
      "  [2.44776798e-307 1.69119330e-306 8.90104917e-307]\n",
      "  [4.45058486e-308 7.56598449e-307 6.23054633e-307]]\n",
      "\n",
      " [[1.37962185e-306 1.37962456e-306 1.69119330e-306]\n",
      "  [8.45593934e-307 9.34605716e-307 7.56593696e-307]\n",
      "  [1.33511562e-306 1.60220528e-306 8.45596650e-307]]\n",
      "\n",
      " [[9.34608431e-307 9.34609790e-307 1.95812747e-306]\n",
      "  [6.23060744e-307 6.23053954e-307 9.34609790e-307]\n",
      "  [8.45593934e-307 9.34600963e-307 5.68175493e-322]]]\n"
     ]
    }
   ],
   "source": [
    "d_fa = np.empty((3, 3, 3))\n",
    "print(d_fa)"
   ]
  },
  {
   "cell_type": "markdown",
   "metadata": {
    "id": "k0Yex4iAcYf7"
   },
   "source": [
    "Declare without initiating."
   ]
  },
  {
   "cell_type": "code",
   "execution_count": 18,
   "metadata": {
    "colab": {
     "base_uri": "https://localhost:8080/"
    },
    "executionInfo": {
     "elapsed": 9,
     "status": "ok",
     "timestamp": 1738898832885,
     "user": {
      "displayName": "Davy Yu",
      "userId": "17436965538887511661"
     },
     "user_tz": -480
    },
    "id": "GjwRvPqScaeS",
    "outputId": "041ae97c-ee1a-4746-de74-61fb30dcec18"
   },
   "outputs": [
    {
     "name": "stdout",
     "output_type": "stream",
     "text": [
      "[  0   5  10  15  20  25  30  35  40  45  50  55  60  65  70  75  80  85\n",
      "  90  95 100 105 110 115 120 125 130 135 140 145 150 155 160 165 170 175\n",
      " 180 185 190 195 200 205 210 215 220 225 230 235 240 245 250 255 260 265\n",
      " 270 275 280 285 290 295 300 305 310 315 320 325 330 335 340 345 350 355\n",
      " 360 365 370 375 380 385 390 395 400 405 410 415 420 425 430 435 440 445\n",
      " 450 455 460 465 470 475 480 485 490 495 500 505 510 515 520 525 530 535\n",
      " 540 545 550 555 560 565 570 575 580 585 590 595 600 605 610 615 620 625\n",
      " 630 635 640 645 650 655 660 665 670 675 680 685 690 695 700 705 710 715\n",
      " 720 725 730 735 740 745 750 755 760 765 770 775 780 785 790 795 800 805\n",
      " 810 815 820 825 830 835 840 845 850 855 860 865 870 875 880 885 890 895\n",
      " 900 905 910 915 920 925 930 935 940 945 950 955 960 965 970 975 980 985\n",
      " 990 995]\n"
     ]
    }
   ],
   "source": [
    "x_values = np.arange(0, 1000 ,5)\n",
    "print(x_values)"
   ]
  },
  {
   "cell_type": "markdown",
   "metadata": {
    "id": "_K7JdVAncpQT"
   },
   "source": [
    "from 0 to 1000, with a stepsize of 5"
   ]
  },
  {
   "cell_type": "code",
   "execution_count": 19,
   "metadata": {
    "colab": {
     "base_uri": "https://localhost:8080/"
    },
    "executionInfo": {
     "elapsed": 6,
     "status": "ok",
     "timestamp": 1738898906224,
     "user": {
      "displayName": "Davy Yu",
      "userId": "17436965538887511661"
     },
     "user_tz": -480
    },
    "id": "oITwAir-cuBs",
    "outputId": "153330fd-4fb6-4d7d-e299-8e352351b7a7"
   },
   "outputs": [
    {
     "name": "stdout",
     "output_type": "stream",
     "text": [
      "[   0.  250.  500.  750. 1000.]\n"
     ]
    }
   ],
   "source": [
    "y_values = np.linspace(0, 1000, 5)\n",
    "print(y_values)"
   ]
  },
  {
   "cell_type": "markdown",
   "metadata": {
    "id": "r7zHXrqQc6RI"
   },
   "source": [
    "The third parameters is the number of elements you want to have."
   ]
  },
  {
   "cell_type": "markdown",
   "metadata": {
    "id": "XTz3lOiadElN"
   },
   "source": [
    "# NaN & Inf"
   ]
  },
  {
   "cell_type": "code",
   "execution_count": 20,
   "metadata": {
    "colab": {
     "base_uri": "https://localhost:8080/"
    },
    "executionInfo": {
     "elapsed": 4,
     "status": "ok",
     "timestamp": 1738898985219,
     "user": {
      "displayName": "Davy Yu",
      "userId": "17436965538887511661"
     },
     "user_tz": -480
    },
    "id": "Bpys7cuVdH4f",
    "outputId": "6780cc5b-2a52-40ad-a891-07604c9173a1"
   },
   "outputs": [
    {
     "name": "stdout",
     "output_type": "stream",
     "text": [
      "nan\n",
      "inf\n"
     ]
    }
   ],
   "source": [
    "print(np.nan)\n",
    "print(np.inf)"
   ]
  },
  {
   "cell_type": "code",
   "execution_count": 21,
   "metadata": {
    "colab": {
     "base_uri": "https://localhost:8080/"
    },
    "executionInfo": {
     "elapsed": 12,
     "status": "ok",
     "timestamp": 1738899041105,
     "user": {
      "displayName": "Davy Yu",
      "userId": "17436965538887511661"
     },
     "user_tz": -480
    },
    "id": "by4u33bIdUct",
    "outputId": "378ae743-8bbe-47c1-edc1-00809faa429f"
   },
   "outputs": [
    {
     "name": "stdout",
     "output_type": "stream",
     "text": [
      "True\n",
      "True\n"
     ]
    }
   ],
   "source": [
    "print(np.isnan(np.nan))\n",
    "print(np.isinf(np.inf))"
   ]
  },
  {
   "cell_type": "markdown",
   "metadata": {
    "id": "ib8AIz2ddbwq"
   },
   "source": [
    "Check for NaN and Inf"
   ]
  },
  {
   "cell_type": "code",
   "execution_count": 22,
   "metadata": {
    "colab": {
     "base_uri": "https://localhost:8080/"
    },
    "executionInfo": {
     "elapsed": 11,
     "status": "ok",
     "timestamp": 1738899096759,
     "user": {
      "displayName": "Davy Yu",
      "userId": "17436965538887511661"
     },
     "user_tz": -480
    },
    "id": "p0yC9u8TdbGR",
    "outputId": "cdd10b4c-4cc0-443d-b349-7f93a95512d9"
   },
   "outputs": [
    {
     "name": "stdout",
     "output_type": "stream",
     "text": [
      "True\n",
      "[inf]\n"
     ]
    },
    {
     "name": "stderr",
     "output_type": "stream",
     "text": [
      "C:\\Users\\Administrator\\AppData\\Local\\Temp\\ipykernel_6152\\655237797.py:1: RuntimeWarning: invalid value encountered in sqrt\n",
      "  print(np.isnan(np.sqrt(-1)))\n",
      "C:\\Users\\Administrator\\AppData\\Local\\Temp\\ipykernel_6152\\655237797.py:2: RuntimeWarning: divide by zero encountered in divide\n",
      "  print(np.array([10]) / 0)\n"
     ]
    }
   ],
   "source": [
    "print(np.isnan(np.sqrt(-1)))\n",
    "print(np.array([10]) / 0)"
   ]
  },
  {
   "cell_type": "markdown",
   "metadata": {
    "id": "H9pLJEIBdt3C"
   },
   "source": [
    "#Mathematical Operations"
   ]
  },
  {
   "cell_type": "code",
   "execution_count": 23,
   "metadata": {
    "colab": {
     "base_uri": "https://localhost:8080/"
    },
    "executionInfo": {
     "elapsed": 39,
     "status": "ok",
     "timestamp": 1738899274545,
     "user": {
      "displayName": "Davy Yu",
      "userId": "17436965538887511661"
     },
     "user_tz": -480
    },
    "id": "brXCEfXXdwnH",
    "outputId": "be32ba8c-d915-47a9-fcf7-ec7015b8b8f6"
   },
   "outputs": [
    {
     "name": "stdout",
     "output_type": "stream",
     "text": [
      "Normal python list: \n",
      "[1, 2, 3, 4, 5, 1, 2, 3, 4, 5, 1, 2, 3, 4, 5, 1, 2, 3, 4, 5, 1, 2, 3, 4, 5]\n",
      "Numpy arrays: \n",
      "[ 5 10 15 20 25]\n"
     ]
    }
   ],
   "source": [
    "l1 = [1, 2, 3, 4, 5]\n",
    "l2 = [6, 7, 8, 9, 0]\n",
    "\n",
    "a1 = np.array(l1)\n",
    "a2 = np.array(l2)\n",
    "\n",
    "print(\"Normal python list: \")\n",
    "print(l1 * 5)\n",
    "print(\"Numpy arrays: \")\n",
    "print(a1 * 5)"
   ]
  },
  {
   "cell_type": "markdown",
   "metadata": {
    "id": "jgchp7tTd9CG"
   },
   "source": [
    "The difference in multiplication."
   ]
  },
  {
   "cell_type": "code",
   "execution_count": 24,
   "metadata": {
    "colab": {
     "base_uri": "https://localhost:8080/"
    },
    "executionInfo": {
     "elapsed": 13,
     "status": "ok",
     "timestamp": 1738899367765,
     "user": {
      "displayName": "Davy Yu",
      "userId": "17436965538887511661"
     },
     "user_tz": -480
    },
    "id": "BMAggTyceLkA",
    "outputId": "2e3dbf51-b04b-4daa-d0b7-d06e0ecb42cc"
   },
   "outputs": [
    {
     "name": "stdout",
     "output_type": "stream",
     "text": [
      "Normal python list: \n",
      "[1, 2, 3, 4, 5, 6, 7, 8, 9, 0]\n",
      "Numpy arrays: \n",
      "[ 7  9 11 13  5]\n",
      "[ 6  7  8  9 10]\n"
     ]
    }
   ],
   "source": [
    "print(\"Normal python list: \")\n",
    "print(l1 + l2)\n",
    "print(\"Numpy arrays: \")\n",
    "print(a1 + a2)\n",
    "print(a1 + 5)"
   ]
  },
  {
   "cell_type": "markdown",
   "metadata": {
    "id": "aVj609T5ehKX"
   },
   "source": [
    "The difference in addition."
   ]
  },
  {
   "cell_type": "code",
   "execution_count": 25,
   "metadata": {
    "colab": {
     "base_uri": "https://localhost:8080/"
    },
    "executionInfo": {
     "elapsed": 5,
     "status": "ok",
     "timestamp": 1738899424325,
     "user": {
      "displayName": "Davy Yu",
      "userId": "17436965538887511661"
     },
     "user_tz": -480
    },
    "id": "fr7TWDOieyHl",
    "outputId": "e99eac41-2ef9-4724-d97a-6a4e816d6314"
   },
   "outputs": [
    {
     "name": "stdout",
     "output_type": "stream",
     "text": [
      "[ 6 14 24 36  0]\n",
      "[0.16666667 0.28571429 0.375      0.44444444        inf]\n",
      "[-5 -5 -5 -5  5]\n"
     ]
    },
    {
     "name": "stderr",
     "output_type": "stream",
     "text": [
      "C:\\Users\\Administrator\\AppData\\Local\\Temp\\ipykernel_6152\\511581756.py:2: RuntimeWarning: divide by zero encountered in divide\n",
      "  print(a1 / a2)\n"
     ]
    }
   ],
   "source": [
    "print(a1 * a2)\n",
    "print(a1 / a2)\n",
    "print(a1 - a2)"
   ]
  },
  {
   "cell_type": "markdown",
   "metadata": {
    "id": "9wRg-F7fe7qD"
   },
   "source": [
    "## Different Dimensions."
   ]
  },
  {
   "cell_type": "code",
   "execution_count": 26,
   "metadata": {
    "colab": {
     "base_uri": "https://localhost:8080/"
    },
    "executionInfo": {
     "elapsed": 11,
     "status": "ok",
     "timestamp": 1738899611719,
     "user": {
      "displayName": "Davy Yu",
      "userId": "17436965538887511661"
     },
     "user_tz": -480
    },
    "id": "hat8AD-WfLOQ",
    "outputId": "e48829fc-d23c-4d6f-d9cf-a0d6cf9af1cc"
   },
   "outputs": [
    {
     "name": "stdout",
     "output_type": "stream",
     "text": [
      "Addition: \n",
      "[[2 3 4]\n",
      " [3 4 5]]\n",
      "Multiplication: \n",
      "[[1 2 3]\n",
      " [2 4 6]]\n"
     ]
    }
   ],
   "source": [
    "b1 = np.array([1, 2, 3])\n",
    "b2 = np.array([[1],\n",
    "               [2]])\n",
    "print(\"Addition: \")\n",
    "print(b1 + b2)\n",
    "print(\"Multiplication: \")\n",
    "print(b1 * b2)"
   ]
  },
  {
   "cell_type": "markdown",
   "metadata": {
    "id": "VcX_GlPffo15"
   },
   "source": [
    "Functions:"
   ]
  },
  {
   "cell_type": "code",
   "execution_count": 27,
   "metadata": {
    "colab": {
     "base_uri": "https://localhost:8080/"
    },
    "executionInfo": {
     "elapsed": 27,
     "status": "ok",
     "timestamp": 1738899811664,
     "user": {
      "displayName": "Davy Yu",
      "userId": "17436965538887511661"
     },
     "user_tz": -480
    },
    "id": "De_eTBFnfojQ",
    "outputId": "3617a672-e973-4e04-97cb-70a6535de146"
   },
   "outputs": [
    {
     "name": "stdout",
     "output_type": "stream",
     "text": [
      "[[1.         1.41421356 1.73205081]\n",
      " [2.         2.23606798 2.23606798]]\n",
      "[[ 0.84147098  0.90929743  0.14112001]\n",
      " [-0.7568025  -0.95892427 -0.95892427]]\n",
      "[[ 0.54030231 -0.41614684 -0.9899925 ]\n",
      " [-0.65364362  0.28366219  0.28366219]]\n",
      "[[ 1.55740772 -2.18503986 -0.14254654]\n",
      " [ 1.15782128 -3.38051501 -3.38051501]]\n",
      "[[0.78539816 1.10714872 1.24904577]\n",
      " [1.32581766 1.37340077 1.37340077]]\n",
      "[[  2.71828183   7.3890561   20.08553692]\n",
      " [ 54.59815003 148.4131591  148.4131591 ]]\n",
      "[[0.         0.30103    0.47712125]\n",
      " [0.60205999 0.69897    0.69897   ]]\n",
      "[[0.         1.         1.5849625 ]\n",
      " [2.         2.32192809 2.32192809]]\n"
     ]
    }
   ],
   "source": [
    "c1 = np.array([[1, 2, 3],\n",
    "               [4, 5, 5]])\n",
    "\n",
    "print(np.sqrt(c1))\n",
    "print(np.sin(c1))\n",
    "print(np.cos(c1))\n",
    "print(np.tan(c1))\n",
    "print(np.arctan(c1))\n",
    "print(np.exp(c1))\n",
    "print(np.log10(c1))\n",
    "print(np.log2(c1))"
   ]
  },
  {
   "cell_type": "markdown",
   "metadata": {
    "id": "jpK6Oh2tgelj"
   },
   "source": [
    "# Array functions:"
   ]
  },
  {
   "cell_type": "code",
   "execution_count": 28,
   "metadata": {
    "colab": {
     "base_uri": "https://localhost:8080/"
    },
    "executionInfo": {
     "elapsed": 13,
     "status": "ok",
     "timestamp": 1738899952270,
     "user": {
      "displayName": "Davy Yu",
      "userId": "17436965538887511661"
     },
     "user_tz": -480
    },
    "id": "YaV1A4kaghY-",
    "outputId": "d4d7b57a-145e-49c0-fd15-f1e92ccd247b"
   },
   "outputs": [
    {
     "name": "stdout",
     "output_type": "stream",
     "text": [
      "[1 2 3 7 8 9]\n",
      "[1 2 3]\n",
      "[1 2 3 7 8 9]\n"
     ]
    }
   ],
   "source": [
    "aa1 = np.array([1, 2, 3])\n",
    "\n",
    "print(np.append(aa1, [7, 8, 9]))\n",
    "print(aa1)\n",
    "\n",
    "aa1 = np.append(aa1, [7, 8, 9])\n",
    "print(aa1)"
   ]
  },
  {
   "cell_type": "code",
   "execution_count": 29,
   "metadata": {
    "colab": {
     "base_uri": "https://localhost:8080/"
    },
    "executionInfo": {
     "elapsed": 17,
     "status": "ok",
     "timestamp": 1738900030279,
     "user": {
      "displayName": "Davy Yu",
      "userId": "17436965538887511661"
     },
     "user_tz": -480
    },
    "id": "Jb3nIetwhAvh",
    "outputId": "e78ec711-90b0-4cc8-aabe-f17db5bfd283"
   },
   "outputs": [
    {
     "name": "stdout",
     "output_type": "stream",
     "text": [
      "[1 2 3 4 5 6 7 8 9]\n"
     ]
    }
   ],
   "source": [
    "aa1 = np.insert(aa1, 3, [4, 5, 6])\n",
    "print(aa1)"
   ]
  },
  {
   "cell_type": "code",
   "execution_count": 30,
   "metadata": {
    "colab": {
     "base_uri": "https://localhost:8080/"
    },
    "executionInfo": {
     "elapsed": 14,
     "status": "ok",
     "timestamp": 1738900151725,
     "user": {
      "displayName": "Davy Yu",
      "userId": "17436965538887511661"
     },
     "user_tz": -480
    },
    "id": "kWI0NhnIhRIr",
    "outputId": "f570b1a8-eca5-4c97-ee05-f0dab00b2bac"
   },
   "outputs": [
    {
     "name": "stdout",
     "output_type": "stream",
     "text": [
      "[1 2 4 5 6]\n",
      "[[1 2 3]\n",
      " [4 5 6]]\n"
     ]
    }
   ],
   "source": [
    "aa2 = np.array([[1, 2, 3],\n",
    "                [4, 5, 6]])\n",
    "print(np.delete(aa2, 2))\n",
    "print(aa2)"
   ]
  },
  {
   "cell_type": "code",
   "execution_count": 31,
   "metadata": {
    "colab": {
     "base_uri": "https://localhost:8080/"
    },
    "executionInfo": {
     "elapsed": 4,
     "status": "ok",
     "timestamp": 1738900345377,
     "user": {
      "displayName": "Davy Yu",
      "userId": "17436965538887511661"
     },
     "user_tz": -480
    },
    "id": "stIMAuaVhrca",
    "outputId": "bf195fa2-31e6-4c34-896d-ee50cda73d58"
   },
   "outputs": [
    {
     "name": "stdout",
     "output_type": "stream",
     "text": [
      "[[1 2 3]]\n",
      "[[4 5 6]]\n"
     ]
    }
   ],
   "source": [
    "print(np.delete(aa2, 1, 0))\n",
    "#1, means the index 1 row\n",
    "#0 means to look at this matrix row-wise\n",
    "print(np.delete(aa2, 0, 0))"
   ]
  },
  {
   "cell_type": "code",
   "execution_count": 32,
   "metadata": {
    "colab": {
     "base_uri": "https://localhost:8080/"
    },
    "executionInfo": {
     "elapsed": 13,
     "status": "ok",
     "timestamp": 1738900372534,
     "user": {
      "displayName": "Davy Yu",
      "userId": "17436965538887511661"
     },
     "user_tz": -480
    },
    "id": "ieXNLOI-iaIU",
    "outputId": "6289f888-2257-4d24-e314-2accd824b597"
   },
   "outputs": [
    {
     "name": "stdout",
     "output_type": "stream",
     "text": [
      "[[1 3]\n",
      " [4 6]]\n"
     ]
    }
   ],
   "source": [
    "print(np.delete(aa2, 1, 1))"
   ]
  },
  {
   "cell_type": "markdown",
   "metadata": {
    "id": "xyymWisWh4x6"
   },
   "source": [
    "The delete function will either delete the row or column"
   ]
  },
  {
   "cell_type": "markdown",
   "metadata": {
    "id": "RJPBRkkFijsv"
   },
   "source": [
    "# Strucuring Method"
   ]
  },
  {
   "cell_type": "code",
   "execution_count": 70,
   "metadata": {
    "id": "26khyBsgimOH"
   },
   "outputs": [
    {
     "name": "stdout",
     "output_type": "stream",
     "text": [
      "(4, 5)\n",
      "[[ 1  2  3  4]\n",
      " [ 5  6  7  8]\n",
      " [ 9 10 11 12]\n",
      " [13 14 15 16]\n",
      " [17 18 19 20]]\n",
      "[ 1  2  3  4  5  6  7  8  9 10 11 12 13 14 15 16 17 18 19 20]\n",
      "[[ 1  2]\n",
      " [ 3  4]\n",
      " [ 5  6]\n",
      " [ 7  8]\n",
      " [ 9 10]\n",
      " [11 12]\n",
      " [13 14]\n",
      " [15 16]\n",
      " [17 18]\n",
      " [19 20]]\n"
     ]
    }
   ],
   "source": [
    "a = np.array([[1, 2, 3, 4, 5],\n",
    "              [6, 7, 8, 9, 10],\n",
    "              [11, 12, 13, 14, 15],\n",
    "              [16, 17, 18, 19, 20]])\n",
    "\n",
    "print(a.shape)\n",
    "print(a.reshape((5, 4)))\n",
    "print(a.reshape((20, )))\n",
    "print(a.reshape((10, 2)))"
   ]
  },
  {
   "cell_type": "code",
   "execution_count": 53,
   "metadata": {},
   "outputs": [
    {
     "name": "stdout",
     "output_type": "stream",
     "text": [
      "[[[ 1  2  3  4  5]\n",
      "  [ 6  7  8  9 10]]\n",
      "\n",
      " [[11 12 13 14 15]\n",
      "  [16 17 18 19 20]]]\n",
      "[[[ 1  2]\n",
      "  [ 3  4]]\n",
      "\n",
      " [[ 5  6]\n",
      "  [ 7  8]]\n",
      "\n",
      " [[ 9 10]\n",
      "  [11 12]]\n",
      "\n",
      " [[13 14]\n",
      "  [15 16]]\n",
      "\n",
      " [[17 18]\n",
      "  [19 20]]]\n"
     ]
    }
   ],
   "source": [
    "print(a.reshape((2, 2, 5)))\n",
    "print(a.reshape((5, 2, 2)))"
   ]
  },
  {
   "cell_type": "markdown",
   "metadata": {},
   "source": [
    "Note that this also have to be assigned."
   ]
  },
  {
   "cell_type": "code",
   "execution_count": 71,
   "metadata": {},
   "outputs": [
    {
     "name": "stdout",
     "output_type": "stream",
     "text": [
      "(4, 5)\n",
      "(4, 5)\n",
      "(10, 2)\n"
     ]
    }
   ],
   "source": [
    "print(a.shape)\n",
    "a.reshape(10, 2)\n",
    "print(a.shape)\n",
    "a.resize(10, 2)\n",
    "print(a.shape)"
   ]
  },
  {
   "cell_type": "code",
   "execution_count": 72,
   "metadata": {},
   "outputs": [
    {
     "name": "stdout",
     "output_type": "stream",
     "text": [
      "[ 1  2  3  4  5  6  7  8  9 10 11 12 13 14 15 16 17 18 19 20]\n",
      "[ 1  2  3  4  5  6  7  8  9 10 11 12 13 14 15 16 17 18 19 20]\n"
     ]
    }
   ],
   "source": [
    "a.resize(4, 5)\n",
    "print(a.flatten())\n",
    "print(a.ravel())"
   ]
  },
  {
   "cell_type": "code",
   "execution_count": 73,
   "metadata": {},
   "outputs": [
    {
     "name": "stdout",
     "output_type": "stream",
     "text": [
      "[  1   2 100   4   5   6   7   8   9  10  11  12  13  14  15  16  17  18\n",
      "  19  20]\n",
      "[[ 1  2  3  4  5]\n",
      " [ 6  7  8  9 10]\n",
      " [11 12 13 14 15]\n",
      " [16 17 18 19 20]]\n"
     ]
    }
   ],
   "source": [
    "var1 = a.flatten()\n",
    "var1[2] = 100\n",
    "print(var1)\n",
    "print(a)"
   ]
  },
  {
   "cell_type": "markdown",
   "metadata": {},
   "source": [
    "Didn't change the original"
   ]
  },
  {
   "cell_type": "code",
   "execution_count": 78,
   "metadata": {},
   "outputs": [
    {
     "name": "stdout",
     "output_type": "stream",
     "text": [
      "[  1   2 100   4   5   6   7   8   9  10  11  12  13  14  15  16  17  18\n",
      "  19  20]\n",
      "[[  1   2 100   4   5]\n",
      " [  6   7   8   9  10]\n",
      " [ 11  12  13  14  15]\n",
      " [ 16  17  18  19  20]]\n"
     ]
    }
   ],
   "source": [
    "var2 = a.ravel()\n",
    "var2[2] = 100\n",
    "print(var2)\n",
    "print(a)\n",
    "var2[2] = 3"
   ]
  },
  {
   "cell_type": "markdown",
   "metadata": {},
   "source": [
    "Changes the original one."
   ]
  },
  {
   "cell_type": "code",
   "execution_count": 80,
   "metadata": {},
   "outputs": [
    {
     "name": "stdout",
     "output_type": "stream",
     "text": [
      "[[ 1  2  3  4  5]\n",
      " [ 6  7  8  9 10]\n",
      " [11 12 13 14 15]\n",
      " [16 17 18 19 20]]\n",
      "[np.int64(1), np.int64(2), np.int64(3), np.int64(4), np.int64(5), np.int64(6), np.int64(7), np.int64(8), np.int64(9), np.int64(10), np.int64(11), np.int64(12), np.int64(13), np.int64(14), np.int64(15), np.int64(16), np.int64(17), np.int64(18), np.int64(19), np.int64(20)]\n"
     ]
    }
   ],
   "source": [
    "print(a)\n",
    "var = [v for v in a.flat]\n",
    "print(var)"
   ]
  },
  {
   "cell_type": "code",
   "execution_count": 81,
   "metadata": {},
   "outputs": [
    {
     "name": "stdout",
     "output_type": "stream",
     "text": [
      "[[ 1  6 11 16]\n",
      " [ 2  7 12 17]\n",
      " [ 3  8 13 18]\n",
      " [ 4  9 14 19]\n",
      " [ 5 10 15 20]]\n",
      "[[ 1  6 11 16]\n",
      " [ 2  7 12 17]\n",
      " [ 3  8 13 18]\n",
      " [ 4  9 14 19]\n",
      " [ 5 10 15 20]]\n",
      "[[ 1  6 11 16]\n",
      " [ 2  7 12 17]\n",
      " [ 3  8 13 18]\n",
      " [ 4  9 14 19]\n",
      " [ 5 10 15 20]]\n"
     ]
    }
   ],
   "source": [
    "print(a.transpose())\n",
    "print(a.T)\n",
    "print(a.swapaxes(0, 1))"
   ]
  },
  {
   "cell_type": "markdown",
   "metadata": {},
   "source": [
    "## Joining and Spliting arrays"
   ]
  },
  {
   "cell_type": "code",
   "execution_count": 85,
   "metadata": {},
   "outputs": [
    {
     "name": "stdout",
     "output_type": "stream",
     "text": [
      "[[ 1  2  3  4  5]\n",
      " [ 6  7  8  9 10]\n",
      " [11 12 13 14 15]\n",
      " [16 17 18 19 20]]\n",
      "[[ 1  2  3  4  5 11 12 13 14 15]\n",
      " [ 6  7  8  9 10 16 17 18 19 20]]\n",
      "[[[ 1  2  3  4  5]\n",
      "  [ 6  7  8  9 10]]\n",
      "\n",
      " [[11 12 13 14 15]\n",
      "  [16 17 18 19 20]]]\n",
      "[[ 1  2  3  4  5]\n",
      " [ 6  7  8  9 10]\n",
      " [11 12 13 14 15]\n",
      " [16 17 18 19 20]]\n",
      "[[ 1  2  3  4  5 11 12 13 14 15]\n",
      " [ 6  7  8  9 10 16 17 18 19 20]]\n"
     ]
    }
   ],
   "source": [
    "b = np.array([[1, 2, 3, 4, 5],\n",
    "              [6, 7, 8, 9, 10]])\n",
    "c = np.array([[11, 12, 13, 14, 15],\n",
    "              [16, 17, 18, 19, 20]])\n",
    "\n",
    "d = np.concatenate((b, c), axis = 0)\n",
    "print(d)\n",
    "d = np.concatenate((b, c), axis = 1)\n",
    "print(d)\n",
    "d = np.stack((b, c))\n",
    "print(d)\n",
    "d = np.vstack((b, c))\n",
    "print(d)\n",
    "d = np.hstack((b, c))\n",
    "print(d)"
   ]
  },
  {
   "cell_type": "markdown",
   "metadata": {},
   "source": [
    "Stack adds a dimension to it."
   ]
  },
  {
   "cell_type": "markdown",
   "metadata": {},
   "source": [
    "vstack is vertical stack, and hstack is horizontal stack."
   ]
  },
  {
   "cell_type": "code",
   "execution_count": 87,
   "metadata": {},
   "outputs": [
    {
     "name": "stdout",
     "output_type": "stream",
     "text": [
      "[array([[ 1,  2,  3,  4,  5],\n",
      "       [ 6,  7,  8,  9, 10]]), array([[11, 12, 13, 14, 15],\n",
      "       [16, 17, 18, 19, 20]])]\n",
      "[array([[ 1],\n",
      "       [ 6],\n",
      "       [11],\n",
      "       [16]]), array([[ 2],\n",
      "       [ 7],\n",
      "       [12],\n",
      "       [17]]), array([[ 3],\n",
      "       [ 8],\n",
      "       [13],\n",
      "       [18]]), array([[ 4],\n",
      "       [ 9],\n",
      "       [14],\n",
      "       [19]]), array([[ 5],\n",
      "       [10],\n",
      "       [15],\n",
      "       [20]])]\n"
     ]
    }
   ],
   "source": [
    "e = np.array([[1, 2, 3, 4, 5],\n",
    "              [6, 7, 8, 9, 10],\n",
    "              [11, 12, 13, 14, 15],\n",
    "              [16, 17, 18, 19, 20]])\n",
    "\n",
    "print(np.split(e, 2, axis = 0))\n",
    "print(np.split(e, 5, axis = 1))"
   ]
  },
  {
   "cell_type": "code",
   "execution_count": 88,
   "metadata": {},
   "outputs": [
    {
     "name": "stdout",
     "output_type": "stream",
     "text": [
      "1\n",
      "20\n",
      "10.5\n",
      "5.766281297335398\n",
      "210\n",
      "10.5\n"
     ]
    }
   ],
   "source": [
    "print(e.min())\n",
    "print(e.max())\n",
    "print(e.mean())\n",
    "print(e.std())\n",
    "print(e.sum())\n",
    "print(np.median(e))"
   ]
  },
  {
   "cell_type": "markdown",
   "metadata": {},
   "source": [
    "# Random Values"
   ]
  },
  {
   "cell_type": "code",
   "execution_count": 91,
   "metadata": {},
   "outputs": [
    {
     "name": "stdout",
     "output_type": "stream",
     "text": [
      "48\n"
     ]
    }
   ],
   "source": [
    "number = np.random.randint(100)\n",
    "print(number)"
   ]
  },
  {
   "cell_type": "code",
   "execution_count": 95,
   "metadata": {},
   "outputs": [
    {
     "name": "stdout",
     "output_type": "stream",
     "text": [
      "[[[0 0 0 0]\n",
      "  [0 0 0 0]\n",
      "  [0 0 0 0]]\n",
      "\n",
      " [[0 0 0 0]\n",
      "  [0 0 0 0]\n",
      "  [0 0 0 0]]]\n",
      "[[[4 8 9 3]\n",
      "  [7 4 1 6]\n",
      "  [4 6 2 6]]\n",
      "\n",
      " [[8 4 4 1]\n",
      "  [8 9 3 1]\n",
      "  [8 6 3 4]]]\n"
     ]
    }
   ],
   "source": [
    "numbers1 = np.random.randint(0, 1, size = (2, 3, 4))\n",
    "print(numbers1)\n",
    "numbers2 = np.random.randint(1, 10, size = (2, 3, 4))\n",
    "print(number2)"
   ]
  },
  {
   "cell_type": "code",
   "execution_count": 96,
   "metadata": {},
   "outputs": [
    {
     "name": "stdout",
     "output_type": "stream",
     "text": [
      "[[5 5 6 5 5 5 6 6 7 7]\n",
      " [7 6 7 2 6 7 5 5 6 4]\n",
      " [6 6 7 6 6 5 6 2 3 3]\n",
      " [7 3 4 5 4 5 7 5 7 2]\n",
      " [7 6 4 4 6 5 7 5 3 3]]\n"
     ]
    }
   ],
   "source": [
    "numbers3 = np.random.binomial(10, p = 0.5, size = (5, 10))\n",
    "print(numbers3)"
   ]
  },
  {
   "cell_type": "code",
   "execution_count": 98,
   "metadata": {},
   "outputs": [
    {
     "name": "stdout",
     "output_type": "stream",
     "text": [
      "[[168.06894663 167.47754014 155.71710482 179.36179674 151.74591578\n",
      "  190.93712389 163.26492831 163.27676302 177.16316211 196.86882373]\n",
      " [192.74416749 173.19564962 161.60324257 165.28717666 159.7472113\n",
      "  143.48761032 151.28610934 151.19128036 185.30487819 125.41997391]\n",
      " [156.60479931 169.47329038 184.78690969 169.195688   143.03043671\n",
      "  169.90614892 180.66182574 182.19986853 148.41539788 176.23116996]\n",
      " [166.91792323 169.46636937 167.32937998 191.00607144 177.50129459\n",
      "  167.7620205  177.00838074 164.32038454 162.57925589 187.33639854]\n",
      " [199.34211442 173.33611725 138.44611145 183.58556478 150.44762346\n",
      "  158.2527678  170.24061091 169.46730427 157.31508997 173.73504848]]\n"
     ]
    }
   ],
   "source": [
    "numbers4 = np.random.normal(loc = 170, scale = 15, size = (5, 10))\n",
    "print(numbers4)"
   ]
  },
  {
   "cell_type": "code",
   "execution_count": 99,
   "metadata": {},
   "outputs": [
    {
     "name": "stdout",
     "output_type": "stream",
     "text": [
      "[[40 20 20 50 10 20 30 40 50 30]\n",
      " [20 50 20 20 30 30 30 40 50 20]\n",
      " [30 50 30 10 40 30 10 20 40 30]\n",
      " [20 10 10 20 30 40 30 30 20 50]\n",
      " [30 20 50 30 20 20 50 10 20 50]]\n"
     ]
    }
   ],
   "source": [
    "numbers5 = np.random.choice([10, 20, 30, 40, 50], size = (5, 10))\n",
    "print(numbers5)"
   ]
  },
  {
   "cell_type": "markdown",
   "metadata": {},
   "source": [
    "# Exporting and Inporting numpy arrays"
   ]
  },
  {
   "cell_type": "code",
   "execution_count": 103,
   "metadata": {},
   "outputs": [],
   "source": [
    "f = np.array([[1, 2, 3, 4, 5, 6],\n",
    "              [7, 8, 9, 10, 11, 12],\n",
    "              [13, 14, 15, 16, 17, 18],\n",
    "              [19, 20, 21, 22, 23, 24]])\n",
    "\n",
    "np.save(\"Numpy test exporting file\", a)\n",
    "np.savetxt(\"Numpy test exporting file.csv\", a, delimiter = \",\")"
   ]
  },
  {
   "cell_type": "code",
   "execution_count": 104,
   "metadata": {},
   "outputs": [
    {
     "name": "stdout",
     "output_type": "stream",
     "text": [
      "[[ 1  2  3  4  5]\n",
      " [ 6  7  8  9 10]\n",
      " [11 12 13 14 15]\n",
      " [16 17 18 19 20]]\n",
      "[[ 1.  2.  3.  4.  5.]\n",
      " [ 6.  7.  8.  9. 10.]\n",
      " [11. 12. 13. 14. 15.]\n",
      " [16. 17. 18. 19. 20.]]\n"
     ]
    }
   ],
   "source": [
    "g = np.load(\"Numpy test exporting file.npy\")\n",
    "h = np.loadtxt(\"Numpy test exporting file.csv\", delimiter = \",\")\n",
    "print(g)\n",
    "print(h)"
   ]
  }
 ],
 "metadata": {
  "colab": {
   "authorship_tag": "ABX9TyMFrlzCk8D49evOzVihGHfI",
   "provenance": []
  },
  "kernelspec": {
   "display_name": ".venv",
   "language": "python",
   "name": "python3"
  },
  "language_info": {
   "codemirror_mode": {
    "name": "ipython",
    "version": 3
   },
   "file_extension": ".py",
   "mimetype": "text/x-python",
   "name": "python",
   "nbconvert_exporter": "python",
   "pygments_lexer": "ipython3",
   "version": "3.11.8"
  }
 },
 "nbformat": 4,
 "nbformat_minor": 0
}
